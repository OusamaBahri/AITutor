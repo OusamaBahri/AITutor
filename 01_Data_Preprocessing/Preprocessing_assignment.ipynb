{
 "cells": [
  {
   "cell_type": "markdown",
   "id": "69bd7e9f",
   "metadata": {},
   "source": [
    "## Import Librairies"
   ]
  },
  {
   "cell_type": "code",
   "execution_count": 3,
   "id": "41f28e7b",
   "metadata": {},
   "outputs": [],
   "source": [
    "## Import Librairies\n",
    "import pandas as pd\n",
    "import seaborn as sns\n",
    "import matplotlib.pyplot as plt"
   ]
  },
  {
   "cell_type": "markdown",
   "id": "bd4e0e8c",
   "metadata": {},
   "source": [
    "### Data:\n",
    "\n",
    "* **Gender**: Gender of the passengers (Female, Male)\n",
    "\n",
    "* **Customer Type**: The customer type (Loyal customer, disloyal customer)\n",
    "\n",
    "* **Age**: The actual age of the passengers\n",
    "\n",
    "* **Type of Travel**: Purpose of the flight of the passengers (Personal Travel, Business Travel)\n",
    "\n",
    "* **Class**: Travel class in the plane of the passengers (Business, Eco, Eco Plus)\n",
    "\n",
    "* **Flight distance**: The flight distance of this journey\n",
    "\n",
    "* **Inflight wifi service**: Satisfaction level of the inflight wifi service (0:Not Applicable;1-5)\n",
    "\n",
    "* **Departure/Arrival time convenient**: Satisfaction level of Departure/Arrival time convenient\n",
    "\n",
    "* **Ease of Online booking**: Satisfaction level of online booking\n",
    "\n",
    "* **Gate location**: Satisfaction level of Gate location\n",
    "\n",
    "* **Food and drink**: Satisfaction level of Food and drink\n",
    "\n",
    "* **Online boarding**: Satisfaction level of online boarding\n",
    "\n",
    "* **Seat comfort**: Satisfaction level of Seat comfort\n",
    "\n",
    "* **Inflight entertainment**: Satisfaction level of inflight entertainment\n",
    "\n",
    "* **On-board service**: Satisfaction level of On-board service\n",
    "\n",
    "* **Leg room service**: Satisfaction level of Leg room service\n",
    "\n",
    "* **Baggage handling**: Satisfaction level of baggage handling\n",
    "\n",
    "* **Check-in service**: Satisfaction level of Check-in service\n",
    "\n",
    "* **Inflight service**: Satisfaction level of inflight service\n",
    "\n",
    "* **Cleanliness**: Satisfaction level of Cleanliness\n",
    "\n",
    "* **Departure Delay in Minutes**: Minutes delayed when departure\n",
    "\n",
    "* **Arrival Delay in Minutes**: Minutes delayed when Arrival\n",
    "\n",
    "* **Satisfaction**: Airline satisfaction level(Satisfaction, neutral or dissatisfaction)"
   ]
  },
  {
   "cell_type": "code",
   "execution_count": 5,
   "id": "b1d18c87",
   "metadata": {},
   "outputs": [],
   "source": [
    "#read the data\n",
    "df = pd.read_csv(\"data.csv\")"
   ]
  },
  {
   "cell_type": "code",
   "execution_count": 23,
   "id": "c8d415f4",
   "metadata": {},
   "outputs": [],
   "source": [
    "#show first 5 rows\n"
   ]
  },
  {
   "cell_type": "code",
   "execution_count": 22,
   "id": "5ba585c5",
   "metadata": {},
   "outputs": [],
   "source": [
    "#check the shape of the data\n"
   ]
  },
  {
   "cell_type": "code",
   "execution_count": 21,
   "id": "6d9be31c",
   "metadata": {},
   "outputs": [],
   "source": [
    "#general info about the data\n"
   ]
  },
  {
   "cell_type": "markdown",
   "id": "1dc7b055",
   "metadata": {},
   "source": [
    "## Get some insights about the data"
   ]
  },
  {
   "cell_type": "code",
   "execution_count": 20,
   "id": "7e64a606",
   "metadata": {
    "scrolled": true
   },
   "outputs": [],
   "source": [
    "#Get summary information about quantitative features by calling the \"describe\" method\n"
   ]
  },
  {
   "cell_type": "code",
   "execution_count": 15,
   "id": "61d6b73d",
   "metadata": {},
   "outputs": [
    {
     "data": {
      "text/plain": [
       "<AxesSubplot:xlabel='Inflight entertainment', ylabel='Flight Distance'>"
      ]
     },
     "execution_count": 15,
     "metadata": {},
     "output_type": "execute_result"
    },
    {
     "data": {
      "image/png": "[encoded data removed]",
      "text/plain": [
       "<Figure size 432x288 with 1 Axes>"
      ]
     },
     "metadata": {
      "needs_background": "light"
     },
     "output_type": "display_data"
    }
   ],
   "source": [
    "#let's check the relationship between the Flight Distance and Inflight entertainment features\n",
    "sns.boxplot(x = \"Inflight entertainment\", y = \"Flight Distance\", palette = \"pastel\", data = df)"
   ]
  },
  {
   "cell_type": "markdown",
   "id": "81d72bb8",
   "metadata": {},
   "source": [
    "The following pattern can be seen: the more distance a passenger travels , the more they are satisfied with the entertainment in flight."
   ]
  },
  {
   "cell_type": "code",
   "execution_count": 16,
   "id": "7788310b",
   "metadata": {},
   "outputs": [
    {
     "data": {
      "text/plain": [
       "<AxesSubplot:xlabel='satisfaction', ylabel='Age'>"
      ]
     },
     "execution_count": 16,
     "metadata": {},
     "output_type": "execute_result"
    },
    {
     "data": {
      "image/png": "[encoded data removed]",
      "text/plain": [
       "<Figure size 432x288 with 1 Axes>"
      ]
     },
     "metadata": {
      "needs_background": "light"
     },
     "output_type": "display_data"
    }
   ],
   "source": [
    "#let's check the relationship between the age feature and the target\n",
    "sns.boxplot(x = \"satisfaction\", y = \"Age\", palette = \"pastel\", data = df)"
   ]
  },
  {
   "cell_type": "markdown",
   "id": "52bdba7a",
   "metadata": {},
   "source": [
    "From this box diagram, we can conclude that most of the airline's satisfied customers are between the ages of 30 and 50 (their average age is slightly over 40). The age range of neutral or dissatisfied customers is slightly smaller (from 25 to 40 years old, on average - a little less than 30)."
   ]
  },
  {
   "cell_type": "code",
   "execution_count": 17,
   "id": "6cab1ad7",
   "metadata": {},
   "outputs": [
    {
     "data": {
      "image/png": "[encoded data removed]",
      "text/plain": [
       "<Figure size 432x288 with 1 Axes>"
      ]
     },
     "metadata": {
      "needs_background": "light"
     },
     "output_type": "display_data"
    }
   ],
   "source": [
    "#relationship between the class and satisfaction\n",
    "sns.countplot(x = 'Class', hue = 'satisfaction', palette = \"pastel\", data = df)\n",
    "plt.show()"
   ]
  },
  {
   "cell_type": "markdown",
   "id": "dceb1f65",
   "metadata": {},
   "source": [
    "This chart is very revealing. You can see that most of the passengers who flew in economy plus or economy class were dissatisfied with the flight, and those who were lucky enough to fly in business class were satisfied."
   ]
  },
  {
   "cell_type": "markdown",
   "id": "22a46d45",
   "metadata": {},
   "source": [
    "**Try to find some other patterns in the data by yourself!!**"
   ]
  },
  {
   "cell_type": "code",
   "execution_count": null,
   "id": "e1f7ae15",
   "metadata": {},
   "outputs": [],
   "source": [
    "#your code here"
   ]
  },
  {
   "cell_type": "code",
   "execution_count": null,
   "id": "eeca02fe",
   "metadata": {},
   "outputs": [],
   "source": []
  },
  {
   "cell_type": "code",
   "execution_count": null,
   "id": "af21b2e1",
   "metadata": {},
   "outputs": [],
   "source": [
    "# Split the data into train and test"
   ]
  },
  {
   "cell_type": "code",
   "execution_count": 18,
   "id": "225b5b10",
   "metadata": {},
   "outputs": [],
   "source": [
    "#check if there is any duplicates\n"
   ]
  },
  {
   "cell_type": "code",
   "execution_count": 19,
   "id": "152c2242",
   "metadata": {},
   "outputs": [],
   "source": [
    "#check if there is any missing values\n"
   ]
  },
  {
   "cell_type": "code",
   "execution_count": null,
   "id": "911eef64",
   "metadata": {},
   "outputs": [],
   "source": [
    "#Impute the missing values by the median value"
   ]
  },
  {
   "cell_type": "code",
   "execution_count": null,
   "id": "d79b68ba",
   "metadata": {},
   "outputs": [],
   "source": [
    "#Transform the categorical features "
   ]
  },
  {
   "cell_type": "code",
   "execution_count": null,
   "id": "c797a35d",
   "metadata": {},
   "outputs": [],
   "source": [
    "#Scale numerical features"
   ]
  }
 ],
 "metadata": {
  "kernelspec": {
   "display_name": "Python 3 (ipykernel)",
   "language": "python",
   "name": "python3"
  },
  "language_info": {
   "codemirror_mode": {
    "name": "ipython",
    "version": 3
   },
   "file_extension": ".py",
   "mimetype": "text/x-python",
   "name": "python",
   "nbconvert_exporter": "python",
   "pygments_lexer": "ipython3",
   "version": "3.8.8"
  }
 },
 "nbformat": 4,
 "nbformat_minor": 5
}

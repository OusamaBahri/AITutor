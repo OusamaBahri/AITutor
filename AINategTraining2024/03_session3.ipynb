{
 "cells": [
  {
   "cell_type": "markdown",
   "id": "3076602e",
   "metadata": {},
   "source": [
    "## Exercices"
   ]
  },
  {
   "cell_type": "markdown",
   "id": "55765074",
   "metadata": {},
   "source": [
    "**exercice1** : ecrire un programme qui remplit une liste par tous les chiffres entre 1000 et 3500 et qui sont divisible par 7 \n",
    "\n",
    "\n",
    "**exercice2**: ecrire un programme qui divise la liste précédemment definie en 4 listes:\n",
    "  * L1: contient les éléments **pairs** qui sont __superieurs__ à 1900\n",
    "  * L2 : contient les éléments __pairs__ et <1900\n",
    "  * L3: contient les éléments __impaires__ et __supérieurs__ à 1900\n",
    "  * L4: contient les éléments __impaires__ et __inférieurs__ à 1900\n",
    "  * verifier que les nouvelles listes ont le memes nbre d'éléments que la liste mère"
   ]
  },
  {
   "cell_type": "code",
   "execution_count": 3,
   "id": "5485a310",
   "metadata": {},
   "outputs": [
    {
     "name": "stdout",
     "output_type": "stream",
     "text": [
      "[1001, 1008, 1015, 1022, 1029, 1036, 1043, 1050, 1057, 1064, 1071, 1078, 1085, 1092, 1099, 1106, 1113, 1120, 1127, 1134, 1141, 1148, 1155, 1162, 1169, 1176, 1183, 1190, 1197, 1204, 1211, 1218, 1225, 1232, 1239, 1246, 1253, 1260, 1267, 1274, 1281, 1288, 1295, 1302, 1309, 1316, 1323, 1330, 1337, 1344, 1351, 1358, 1365, 1372, 1379, 1386, 1393, 1400, 1407, 1414, 1421, 1428, 1435, 1442, 1449, 1456, 1463, 1470, 1477, 1484, 1491, 1498, 1505, 1512, 1519, 1526, 1533, 1540, 1547, 1554, 1561, 1568, 1575, 1582, 1589, 1596, 1603, 1610, 1617, 1624, 1631, 1638, 1645, 1652, 1659, 1666, 1673, 1680, 1687, 1694, 1701, 1708, 1715, 1722, 1729, 1736, 1743, 1750, 1757, 1764, 1771, 1778, 1785, 1792, 1799, 1806, 1813, 1820, 1827, 1834, 1841, 1848, 1855, 1862, 1869, 1876, 1883, 1890, 1897, 1904, 1911, 1918, 1925, 1932, 1939, 1946, 1953, 1960, 1967, 1974, 1981, 1988, 1995, 2002, 2009, 2016, 2023, 2030, 2037, 2044, 2051, 2058, 2065, 2072, 2079, 2086, 2093, 2100, 2107, 2114, 2121, 2128, 2135, 2142, 2149, 2156, 2163, 2170, 2177, 2184, 2191, 2198, 2205, 2212, 2219, 2226, 2233, 2240, 2247, 2254, 2261, 2268, 2275, 2282, 2289, 2296, 2303, 2310, 2317, 2324, 2331, 2338, 2345, 2352, 2359, 2366, 2373, 2380, 2387, 2394, 2401, 2408, 2415, 2422, 2429, 2436, 2443, 2450, 2457, 2464, 2471, 2478, 2485, 2492, 2499, 2506, 2513, 2520, 2527, 2534, 2541, 2548, 2555, 2562, 2569, 2576, 2583, 2590, 2597, 2604, 2611, 2618, 2625, 2632, 2639, 2646, 2653, 2660, 2667, 2674, 2681, 2688, 2695, 2702, 2709, 2716, 2723, 2730, 2737, 2744, 2751, 2758, 2765, 2772, 2779, 2786, 2793, 2800, 2807, 2814, 2821, 2828, 2835, 2842, 2849, 2856, 2863, 2870, 2877, 2884, 2891, 2898, 2905, 2912, 2919, 2926, 2933, 2940, 2947, 2954, 2961, 2968, 2975, 2982, 2989, 2996, 3003, 3010, 3017, 3024, 3031, 3038, 3045, 3052, 3059, 3066, 3073, 3080, 3087, 3094, 3101, 3108, 3115, 3122, 3129, 3136, 3143, 3150, 3157, 3164, 3171, 3178, 3185, 3192, 3199, 3206, 3213, 3220, 3227, 3234, 3241, 3248, 3255, 3262, 3269, 3276, 3283, 3290, 3297, 3304, 3311, 3318, 3325, 3332, 3339, 3346, 3353, 3360, 3367, 3374, 3381, 3388, 3395, 3402, 3409, 3416, 3423, 3430, 3437, 3444, 3451, 3458, 3465, 3472, 3479, 3486, 3493, 3500]\n"
     ]
    }
   ],
   "source": [
    "L = []\n",
    "for i in range(1000, 3501):\n",
    "    if i%7==0:\n",
    "        L.append(i)\n",
    "print(L)"
   ]
  },
  {
   "cell_type": "code",
   "execution_count": 4,
   "id": "cf460c2f",
   "metadata": {},
   "outputs": [
    {
     "data": {
      "text/plain": [
       "True"
      ]
     },
     "execution_count": 4,
     "metadata": {},
     "output_type": "execute_result"
    }
   ],
   "source": [
    "L1 , L2 , L3, L4 = [] , [], [],[]\n",
    "for i in L : \n",
    "    if i%2 == 0:\n",
    "        if i >1900:\n",
    "            L1.append(i)\n",
    "        else:\n",
    "            L2.append(i)\n",
    "    else:\n",
    "        if i> 1900:\n",
    "            L3.append(i)\n",
    "        else:\n",
    "            L4.append(i)\n",
    "len(L1) + len(L2) + len(L3) + len(L4) == len(L)"
   ]
  },
  {
   "cell_type": "code",
   "execution_count": 5,
   "id": "de8b4104",
   "metadata": {},
   "outputs": [
    {
     "data": {
      "text/plain": [
       "False"
      ]
     },
     "execution_count": 5,
     "metadata": {},
     "output_type": "execute_result"
    }
   ],
   "source": [
    "L1 + L2 + L3 + L4 == L"
   ]
  },
  {
   "cell_type": "code",
   "execution_count": 9,
   "id": "4361356a",
   "metadata": {},
   "outputs": [],
   "source": [
    "newdata = L1 + L2 + L3 + L4\n",
    "newdata  = sorted(newdata)"
   ]
  },
  {
   "cell_type": "code",
   "execution_count": 10,
   "id": "24db6a5a",
   "metadata": {},
   "outputs": [
    {
     "data": {
      "text/plain": [
       "True"
      ]
     },
     "execution_count": 10,
     "metadata": {},
     "output_type": "execute_result"
    }
   ],
   "source": [
    "newdata == L"
   ]
  },
  {
   "cell_type": "code",
   "execution_count": 13,
   "id": "76881534",
   "metadata": {},
   "outputs": [
    {
     "ename": "SyntaxError",
     "evalue": "invalid syntax (264690542.py, line 1)",
     "output_type": "error",
     "traceback": [
      "\u001b[0;36m  Cell \u001b[0;32mIn[13], line 1\u001b[0;36m\u001b[0m\n\u001b[0;31m    del = 5\u001b[0m\n\u001b[0m        ^\u001b[0m\n\u001b[0;31mSyntaxError\u001b[0m\u001b[0;31m:\u001b[0m invalid syntax\n"
     ]
    }
   ],
   "source": [
    "del = 5"
   ]
  },
  {
   "cell_type": "code",
   "execution_count": 11,
   "id": "bdbf4ae7",
   "metadata": {},
   "outputs": [],
   "source": [
    "sorted = 5"
   ]
  },
  {
   "cell_type": "code",
   "execution_count": 12,
   "id": "238dd1eb",
   "metadata": {},
   "outputs": [
    {
     "ename": "TypeError",
     "evalue": "'int' object is not callable",
     "output_type": "error",
     "traceback": [
      "\u001b[0;31m---------------------------------------------------------------------------\u001b[0m",
      "\u001b[0;31mTypeError\u001b[0m                                 Traceback (most recent call last)",
      "Cell \u001b[0;32mIn[12], line 1\u001b[0m\n\u001b[0;32m----> 1\u001b[0m \u001b[38;5;28;43msorted\u001b[39;49m\u001b[43m(\u001b[49m\u001b[43mnewdata\u001b[49m\u001b[43m)\u001b[49m\n",
      "\u001b[0;31mTypeError\u001b[0m: 'int' object is not callable"
     ]
    }
   ],
   "source": [
    "sorted(newdata)"
   ]
  },
  {
   "cell_type": "markdown",
   "id": "fac2829e",
   "metadata": {},
   "source": [
    "# <center>Les fonctions en Python</center>"
   ]
  },
  {
   "cell_type": "markdown",
   "id": "40e1068c",
   "metadata": {},
   "source": [
    "#### Qu'est-ce qu'une fonction en Python ?"
   ]
  },
  {
   "cell_type": "markdown",
   "id": "7a408f76",
   "metadata": {},
   "source": [
    "* une fonction est un groupe d'instructions liées qui effectue une tâche spécifique.\n",
    "* Les fonctions aident à diviser notre programme en morceaux plus petits et modulaires. \n",
    "* les fonctions rendent notre programme plus organisé et plus gérable.\n",
    "* De plus, cela évite les répétitions et rend le code réutilisable."
   ]
  },
  {
   "cell_type": "code",
   "execution_count": 1,
   "id": "680c72f8",
   "metadata": {},
   "outputs": [],
   "source": [
    "def function_name(parameters):\n",
    "    \"\"\"docstring\"\"\"\n",
    "    statement(s)"
   ]
  },
  {
   "cell_type": "markdown",
   "id": "89c0d4e4",
   "metadata": {},
   "source": [
    "* lors de la creation de fonction on utilise:\n",
    "   * le mot clé **def** pour marquer le début de l'en-tête de la fonction.\n",
    "   * Un identifiant (function_name) pour identifier la fonction .\n",
    "   * l'identifiant d'une fonction doit respecter les règles des noms des variables **(voir le notebook de la 1er session)**\n",
    "   * Les paramètres sont les variables entre les parenthèses dans la définition de la fonction. Ils sont **facultatifs**\n",
    "   * Un deux-points (**:**) pour marquer la fin de l'en-tête de la fonction\n",
    "   * Un **docstring** facultatif pour décrire ce que fait la fonction\n",
    "   * Une ou plusieurs **instructions** python **valides** qui constituent le **corps de la fonction**.\n",
    "   * Les instructions doivent avoir le même niveau d'**indentation** (généralement 4 espaces)\n",
    "   * Une instruction **return** facultative pour renvoyer une valeur de la fonction."
   ]
  },
  {
   "cell_type": "markdown",
   "id": "7c4c2aac",
   "metadata": {},
   "source": [
    "##### Exemple de fonction"
   ]
  },
  {
   "cell_type": "code",
   "execution_count": 14,
   "id": "d91ac30d",
   "metadata": {},
   "outputs": [],
   "source": [
    "def greet(name):\n",
    "    \"\"\"\n",
    "    This function greets to\n",
    "    the person passed in as\n",
    "    a parameter\n",
    "    \"\"\"\n",
    "    print(\"Hello, \" + name + \". Good morning!\")"
   ]
  },
  {
   "cell_type": "code",
   "execution_count": 15,
   "id": "aba34b1c",
   "metadata": {},
   "outputs": [
    {
     "name": "stdout",
     "output_type": "stream",
     "text": [
      "Hello, Ahmed. Good morning!\n"
     ]
    }
   ],
   "source": [
    "# pour appeler la fonction greet\n",
    "greet(\"Ahmed\")"
   ]
  },
  {
   "cell_type": "markdown",
   "id": "d951d815",
   "metadata": {},
   "source": [
    "#### Docstrings:"
   ]
  },
  {
   "cell_type": "markdown",
   "id": "e4351c88",
   "metadata": {},
   "source": [
    "* La première chaîne après l'en-tête de la fonction est appelée docstring et est l'abréviation de **documentation string**.\n",
    "* Il est utilisé pour expliquer ce que fait une fonction.\n",
    "* Cette chaîne est disponible pour nous en tant qu'attribut **__ doc __** de la fonction"
   ]
  },
  {
   "cell_type": "code",
   "execution_count": 16,
   "id": "5802c81e",
   "metadata": {},
   "outputs": [
    {
     "name": "stdout",
     "output_type": "stream",
     "text": [
      "\n",
      "    This function greets to\n",
      "    the person passed in as\n",
      "    a parameter\n",
      "    \n"
     ]
    }
   ],
   "source": [
    "#exemple\n",
    "print(greet.__doc__)"
   ]
  },
  {
   "cell_type": "code",
   "execution_count": 19,
   "id": "d451fbee",
   "metadata": {},
   "outputs": [
    {
     "data": {
      "text/plain": [
       "\"Forward raw_input to frontends\\n\\n        Raises\\n        ------\\n        StdinNotImplementedError if active frontend doesn't support stdin.\\n        \""
      ]
     },
     "execution_count": 19,
     "metadata": {},
     "output_type": "execute_result"
    }
   ],
   "source": [
    "input.__doc__"
   ]
  },
  {
   "cell_type": "code",
   "execution_count": 6,
   "id": "ec13396b",
   "metadata": {},
   "outputs": [
    {
     "data": {
      "text/plain": [
       "\"print(value, ..., sep=' ', end='\\\\n', file=sys.stdout, flush=False)\\n\\nPrints the values to a stream, or to sys.stdout by default.\\nOptional keyword arguments:\\nfile:  a file-like object (stream); defaults to the current sys.stdout.\\nsep:   string inserted between values, default a space.\\nend:   string appended after the last value, default a newline.\\nflush: whether to forcibly flush the stream.\""
      ]
     },
     "execution_count": 6,
     "metadata": {},
     "output_type": "execute_result"
    }
   ],
   "source": [
    "print.__doc__"
   ]
  },
  {
   "cell_type": "markdown",
   "id": "b21828d8",
   "metadata": {},
   "source": [
    "### l'instruction return "
   ]
  },
  {
   "cell_type": "markdown",
   "id": "e07602a5",
   "metadata": {},
   "source": [
    "* **Syntax** :  return [expression_list]\n",
    "* Cette instruction peut contenir une expression qui est évaluée et la valeur est renvoyée.\n",
    "* S'il n'y a pas d'expression dans l'instruction ou si l'instruction return elle-même n'est pas présente dans une fonction, la fonction renverra l'objet **None**.\n"
   ]
  },
  {
   "cell_type": "code",
   "execution_count": 20,
   "id": "dda4a77f",
   "metadata": {},
   "outputs": [
    {
     "name": "stdout",
     "output_type": "stream",
     "text": [
      "Hello, ahmed. Good morning!\n",
      "None\n"
     ]
    }
   ],
   "source": [
    "# exemple\n",
    "print(greet(\"ahmed\"))"
   ]
  },
  {
   "cell_type": "code",
   "execution_count": 33,
   "id": "5e8895de",
   "metadata": {},
   "outputs": [
    {
     "name": "stdout",
     "output_type": "stream",
     "text": [
      "2\n",
      "4\n"
     ]
    }
   ],
   "source": [
    "# exemple\n",
    "def absolute_value(num=None):\n",
    "    \"\"\"Cette fonction renvoie la valeur absolue du nombre saisi\"\"\"\n",
    "    try:\n",
    "        if num >= 0:\n",
    "            return num\n",
    "        else:\n",
    "            return -num\n",
    "    except :\n",
    "        return (\"Please enter a valid number\")\n",
    "\n",
    "\n",
    "print(absolute_value(2))\n",
    "\n",
    "print(absolute_value(-4))"
   ]
  },
  {
   "cell_type": "code",
   "execution_count": 35,
   "id": "dfc6545a",
   "metadata": {},
   "outputs": [],
   "source": [
    "def absolute_value(num=None):\n",
    "    \"\"\"Cette fonction renvoie la valeur absolue du nombre saisi\"\"\"\n",
    "    assert(type(num)==int)\n",
    "    if num >= 0:\n",
    "        return num\n",
    "    else:\n",
    "        return -num\n",
    "    return (\"Please enter a valid number\")\n"
   ]
  },
  {
   "cell_type": "code",
   "execution_count": null,
   "id": "74af4b67",
   "metadata": {},
   "outputs": [],
   "source": [
    "def absolute_value(num=None):\n",
    "    \"\"\"Cette fonction renvoie la valeur absolue du nombre saisi\"\"\"\n",
    "    if num == None:\n",
    "        num =0\n",
    "    if num >= 0:\n",
    "        return num\n",
    "    else:\n",
    "        return -num"
   ]
  },
  {
   "cell_type": "code",
   "execution_count": null,
   "id": "7a08af75",
   "metadata": {},
   "outputs": [],
   "source": [
    "def absolute_value(num=None):\n",
    "    \"\"\"Cette fonction renvoie la valeur absolue du nombre saisi\"\"\"\n",
    "\n",
    "    if num is not None and num >= 0:\n",
    "        return num\n",
    "    elif num is not None and num <0:\n",
    "        return -num\n",
    "    else :\n",
    "        return \"Please enter a valid number\""
   ]
  },
  {
   "cell_type": "code",
   "execution_count": 36,
   "id": "840dc8ef",
   "metadata": {},
   "outputs": [
    {
     "ename": "AssertionError",
     "evalue": "",
     "output_type": "error",
     "traceback": [
      "\u001b[0;31m---------------------------------------------------------------------------\u001b[0m",
      "\u001b[0;31mAssertionError\u001b[0m                            Traceback (most recent call last)",
      "Cell \u001b[0;32mIn[36], line 1\u001b[0m\n\u001b[0;32m----> 1\u001b[0m \u001b[43mabsolute_value\u001b[49m\u001b[43m(\u001b[49m\u001b[43m)\u001b[49m\n",
      "Cell \u001b[0;32mIn[35], line 3\u001b[0m, in \u001b[0;36mabsolute_value\u001b[0;34m(num)\u001b[0m\n\u001b[1;32m      1\u001b[0m \u001b[38;5;28;01mdef\u001b[39;00m \u001b[38;5;21mabsolute_value\u001b[39m(num\u001b[38;5;241m=\u001b[39m\u001b[38;5;28;01mNone\u001b[39;00m):\n\u001b[1;32m      2\u001b[0m \u001b[38;5;250m    \u001b[39m\u001b[38;5;124;03m\"\"\"Cette fonction renvoie la valeur absolue du nombre saisi\"\"\"\u001b[39;00m\n\u001b[0;32m----> 3\u001b[0m     \u001b[38;5;28;01massert\u001b[39;00m(\u001b[38;5;28mtype\u001b[39m(num)\u001b[38;5;241m==\u001b[39m\u001b[38;5;28mint\u001b[39m)\n\u001b[1;32m      4\u001b[0m     \u001b[38;5;28;01mif\u001b[39;00m num \u001b[38;5;241m>\u001b[39m\u001b[38;5;241m=\u001b[39m \u001b[38;5;241m0\u001b[39m:\n\u001b[1;32m      5\u001b[0m         \u001b[38;5;28;01mreturn\u001b[39;00m num\n",
      "\u001b[0;31mAssertionError\u001b[0m: "
     ]
    }
   ],
   "source": [
    "absolute_value()"
   ]
  },
  {
   "cell_type": "markdown",
   "id": "b91dae0b",
   "metadata": {},
   "source": [
    "### Portée des variables"
   ]
  },
  {
   "cell_type": "markdown",
   "id": "6bb4fda2",
   "metadata": {},
   "source": [
    "* La portée d'une variable est la partie d'un programme où la variable est reconnue.\n",
    "  * Les paramètres et variables définis à l'intérieur d'une fonction ne sont pas visibles de l'extérieur de la fonction. Ils ont donc une portée locale : **variables locales**\n",
    "  * les variables extérieures à la fonction sont visibles de l'intérieur. Ils ont une portée globale : **variables globales**.\n",
    "  * Nous pouvons lire ces valeurs depuis l'intérieur de la fonction mais ne pouvons pas les modifier.\n",
    "  * Afin de modifier la valeur des variables extérieures à la fonction, elles doivent être déclarées comme variables globales à l'aide du mot clé **global**."
   ]
  },
  {
   "cell_type": "code",
   "execution_count": 37,
   "id": "d8d5995c",
   "metadata": {},
   "outputs": [
    {
     "name": "stdout",
     "output_type": "stream",
     "text": [
      "Value inside function: 10\n",
      "Value outside function: 20\n"
     ]
    }
   ],
   "source": [
    "# exemple\n",
    "def my_func():\n",
    "    x = 10\n",
    "    print(\"Value inside function:\",x)\n",
    "\n",
    "x = 20\n",
    "my_func()\n",
    "print(\"Value outside function:\",x)"
   ]
  },
  {
   "cell_type": "code",
   "execution_count": 38,
   "id": "2b5f50b5",
   "metadata": {},
   "outputs": [],
   "source": [
    "a = 5\n",
    "def afficher_a():\n",
    "    return a\n",
    "def changer_a():\n",
    "    a+=5\n",
    "    return a"
   ]
  },
  {
   "cell_type": "code",
   "execution_count": 39,
   "id": "927d9fd7",
   "metadata": {},
   "outputs": [
    {
     "name": "stdout",
     "output_type": "stream",
     "text": [
      "5\n"
     ]
    }
   ],
   "source": [
    "print(afficher_a())"
   ]
  },
  {
   "cell_type": "code",
   "execution_count": 40,
   "id": "a1835f32",
   "metadata": {},
   "outputs": [
    {
     "ename": "UnboundLocalError",
     "evalue": "local variable 'a' referenced before assignment",
     "output_type": "error",
     "traceback": [
      "\u001b[0;31m---------------------------------------------------------------------------\u001b[0m",
      "\u001b[0;31mUnboundLocalError\u001b[0m                         Traceback (most recent call last)",
      "Cell \u001b[0;32mIn[40], line 1\u001b[0m\n\u001b[0;32m----> 1\u001b[0m \u001b[38;5;28mprint\u001b[39m(\u001b[43mchanger_a\u001b[49m\u001b[43m(\u001b[49m\u001b[43m)\u001b[49m)\n",
      "Cell \u001b[0;32mIn[38], line 5\u001b[0m, in \u001b[0;36mchanger_a\u001b[0;34m()\u001b[0m\n\u001b[1;32m      4\u001b[0m \u001b[38;5;28;01mdef\u001b[39;00m \u001b[38;5;21mchanger_a\u001b[39m():\n\u001b[0;32m----> 5\u001b[0m     a\u001b[38;5;241m+\u001b[39m\u001b[38;5;241m=\u001b[39m\u001b[38;5;241m5\u001b[39m\n\u001b[1;32m      6\u001b[0m     \u001b[38;5;28;01mreturn\u001b[39;00m a\n",
      "\u001b[0;31mUnboundLocalError\u001b[0m: local variable 'a' referenced before assignment"
     ]
    }
   ],
   "source": [
    "print(changer_a())"
   ]
  },
  {
   "cell_type": "code",
   "execution_count": 41,
   "id": "14042fdf",
   "metadata": {},
   "outputs": [],
   "source": [
    "def changer_a():\n",
    "    global a\n",
    "    a+=5\n",
    "    return a"
   ]
  },
  {
   "cell_type": "code",
   "execution_count": 42,
   "id": "c8d3592d",
   "metadata": {},
   "outputs": [
    {
     "name": "stdout",
     "output_type": "stream",
     "text": [
      "10\n"
     ]
    }
   ],
   "source": [
    "print(changer_a())"
   ]
  },
  {
   "cell_type": "markdown",
   "id": "8d7be011",
   "metadata": {},
   "source": [
    "## Types de fonctions"
   ]
  },
  {
   "cell_type": "markdown",
   "id": "1fa279fd",
   "metadata": {},
   "source": [
    "* 1 - __Built-in functions__ - Fonctions intégrées à Python. : https://www.programiz.com/python-programming/methods/built-in\n",
    "* 2 - __User-defined functions__ -Fonctions définies par les utilisateurs eux-mêmes."
   ]
  },
  {
   "cell_type": "markdown",
   "id": "3cd4d7f4",
   "metadata": {},
   "source": [
    "### Exemple de fonctions intégrées:\n",
    "\n",
    "* **eval()**: La méthode __eval()__ analyse l'expression transmise à cette méthode et exécute l'expression python (code) dans le programme.\n",
    "* La méthode __eval()__ renvoie le résultat évalué à partir de l'expression."
   ]
  },
  {
   "cell_type": "code",
   "execution_count": 43,
   "id": "1c10ef29",
   "metadata": {},
   "outputs": [
    {
     "name": "stdout",
     "output_type": "stream",
     "text": [
      "81\n"
     ]
    }
   ],
   "source": [
    "# exemple\n",
    "number = 9\n",
    "\n",
    "# eval performs the multiplication passed as argument\n",
    "square_number = eval('number * number')\n",
    "print(square_number)"
   ]
  },
  {
   "cell_type": "markdown",
   "id": "1b9c9a9e",
   "metadata": {},
   "source": [
    "* **isinstance()** : La fonction vérifie si l'objet (premier argument) est une instance ou une sous-classe de la classe classinfo (deuxième argument).\n",
    "\n",
    "https://www.programiz.com/python-programming/methods/built-in/isinstance"
   ]
  },
  {
   "cell_type": "code",
   "execution_count": 32,
   "id": "977cad3b",
   "metadata": {},
   "outputs": [
    {
     "name": "stdout",
     "output_type": "stream",
     "text": [
      "True\n"
     ]
    }
   ],
   "source": [
    "# Exemple\n",
    "numbers = [1, 2, 3, 4, 2, 5]\n",
    "\n",
    "# check if numbers is instance of list\n",
    "result = isinstance(numbers, list)\n",
    "print(result)"
   ]
  },
  {
   "cell_type": "markdown",
   "id": "4fd8202c",
   "metadata": {},
   "source": [
    "### exercices : \n",
    "1- Ecrivez un programme pour créer une fonction qui prend deux arguments, name et age, et affichez leur valeur.\n",
    "\n",
    "2 - Ecrivez un programme pour créer une fonction qui prend comme argument une liste des données  et renvoie une liste **res** qui contienne  les valeurs numériques qui sont superieurs à 0"
   ]
  },
  {
   "cell_type": "code",
   "execution_count": 16,
   "id": "8414952c",
   "metadata": {},
   "outputs": [],
   "source": [
    "def val_L(L):\n",
    "    res = []\n",
    "    for i in L:\n",
    "        if isinstance(i, (int, float)):\n",
    "            if i > 0 :\n",
    "                res.append(i)\n",
    "    return res"
   ]
  },
  {
   "cell_type": "markdown",
   "id": "573abaa3",
   "metadata": {},
   "source": [
    "# <center>Les modules en Python</center>"
   ]
  },
  {
   "cell_type": "markdown",
   "id": "fb89e354",
   "metadata": {},
   "source": [
    "* Les modules font référence à un fichier contenant des instructions et des définitions Python.\n",
    "* Un fichier contenant du code Python, par exemple : __example.py__, s'appelle un module, et __son nom__ de module serait __example__.\n",
    "* Nous utilisons des modules pour décomposer les gros programmes en petits fichiers gérables et organisés\n",
    "* les modules permettent la réutilisation du code\n",
    "* Nous pouvons définir nos fonctions les plus utilisées dans un module et l'importer, au lieu de copier leurs définitions dans différents programmes"
   ]
  },
  {
   "cell_type": "code",
   "execution_count": 7,
   "id": "43b65458",
   "metadata": {},
   "outputs": [],
   "source": [
    "# Python Module example\n",
    "\n",
    "def add(a, b):\n",
    "    \"\"\"This program adds two\n",
    "   numbers and return the result\"\"\"\n",
    "\n",
    "    result = a + b\n",
    "    return result"
   ]
  },
  {
   "cell_type": "code",
   "execution_count": 8,
   "id": "806c534d",
   "metadata": {},
   "outputs": [
    {
     "data": {
      "text/plain": [
       "11"
      ]
     },
     "execution_count": 8,
     "metadata": {},
     "output_type": "execute_result"
    }
   ],
   "source": [
    "add(5,6)"
   ]
  },
  {
   "cell_type": "markdown",
   "id": "734b5cf8",
   "metadata": {},
   "source": [
    "### Comment importer des modules en Python ?"
   ]
  },
  {
   "cell_type": "code",
   "execution_count": 44,
   "id": "1eda19ec",
   "metadata": {},
   "outputs": [],
   "source": [
    "import exemple # importer le module exemple"
   ]
  },
  {
   "cell_type": "code",
   "execution_count": 45,
   "id": "7ed8aab7",
   "metadata": {},
   "outputs": [
    {
     "data": {
      "text/plain": [
       "10"
      ]
     },
     "execution_count": 45,
     "metadata": {},
     "output_type": "execute_result"
    }
   ],
   "source": [
    "exemple.add(5,5) # accéder à la fonction add()"
   ]
  },
  {
   "cell_type": "code",
   "execution_count": 46,
   "id": "6136786e",
   "metadata": {},
   "outputs": [],
   "source": [
    "from exemple import add"
   ]
  },
  {
   "cell_type": "code",
   "execution_count": 47,
   "id": "33c11cfe",
   "metadata": {},
   "outputs": [
    {
     "name": "stdout",
     "output_type": "stream",
     "text": [
      "11\n"
     ]
    }
   ],
   "source": [
    "a = add(5,6)\n",
    "print(a)"
   ]
  },
  {
   "cell_type": "markdown",
   "id": "c0a5ee6d",
   "metadata": {},
   "source": [
    "### Quelques modules standard en Python"
   ]
  },
  {
   "cell_type": "markdown",
   "id": "8be60980",
   "metadata": {},
   "source": [
    "## Math \n",
    "* Ce module donne accès aux fonctions mathématiques\n",
    "* https://www.tutorialsteacher.com/python/math-module"
   ]
  },
  {
   "cell_type": "code",
   "execution_count": 48,
   "id": "de92f760",
   "metadata": {},
   "outputs": [],
   "source": [
    "# pour importer math \n",
    "import math\n",
    "# importer math en utilisant un alias m\n",
    "import math as m"
   ]
  },
  {
   "cell_type": "code",
   "execution_count": 49,
   "id": "09c42500",
   "metadata": {},
   "outputs": [
    {
     "name": "stdout",
     "output_type": "stream",
     "text": [
      "The value of pi is 3.141592653589793\n",
      "The value of pi is 3.141592653589793\n"
     ]
    }
   ],
   "source": [
    "print(\"The value of pi is\", math.pi)\n",
    "print(\"The value of pi is\", m.pi)\n"
   ]
  },
  {
   "cell_type": "code",
   "execution_count": 50,
   "id": "e71b8a8a",
   "metadata": {},
   "outputs": [
    {
     "name": "stdout",
     "output_type": "stream",
     "text": [
      "3.141592653589793\n",
      "2.718281828459045\n"
     ]
    }
   ],
   "source": [
    "# importer les attribues pi , e\n",
    "from math import pi, e\n",
    "print(pi)\n",
    "print(e)"
   ]
  },
  {
   "cell_type": "code",
   "execution_count": 51,
   "id": "26f30dac",
   "metadata": {},
   "outputs": [
    {
     "name": "stdout",
     "output_type": "stream",
     "text": [
      "The value of pi is 3.141592653589793\n"
     ]
    }
   ],
   "source": [
    "# importer tous d'un module\n",
    "from math import *\n",
    "print(\"The value of pi is\", pi)"
   ]
  },
  {
   "cell_type": "code",
   "execution_count": 52,
   "id": "3887c3d3",
   "metadata": {},
   "outputs": [
    {
     "data": {
      "text/plain": [
       "['__builtins__',\n",
       " '__cached__',\n",
       " '__doc__',\n",
       " '__file__',\n",
       " '__loader__',\n",
       " '__name__',\n",
       " '__package__',\n",
       " '__spec__',\n",
       " 'add']"
      ]
     },
     "execution_count": 52,
     "metadata": {},
     "output_type": "execute_result"
    }
   ],
   "source": [
    "#Nous pouvons utiliser la fonction dir() pour découvrir les noms définis à l'intérieur d'un module.\n",
    "dir(exemple)"
   ]
  },
  {
   "cell_type": "markdown",
   "id": "e01c5d30",
   "metadata": {},
   "source": [
    "## random"
   ]
  },
  {
   "cell_type": "markdown",
   "id": "25c14829",
   "metadata": {},
   "source": [
    "* est utilisé pour effectuer des actions au hasard, comme :\n",
    "    * obtenir un nombre aléatoire, \n",
    "    * sélectionner des éléments aléatoires dans une liste, \n",
    "    * mélanger des éléments au hasard, etc."
   ]
  },
  {
   "cell_type": "markdown",
   "id": "d483a70d",
   "metadata": {},
   "source": [
    "* https://www.tutorialsteacher.com/python/random-module"
   ]
  },
  {
   "cell_type": "code",
   "execution_count": 54,
   "id": "97a4974c",
   "metadata": {},
   "outputs": [
    {
     "data": {
      "text/plain": [
       "0.7659688895999233"
      ]
     },
     "execution_count": 54,
     "metadata": {},
     "output_type": "execute_result"
    }
   ],
   "source": [
    "# exemple pour renvoyer un nombre flottant aléatoire compris entre 0,0 et 1,0\n",
    "import random\n",
    "random.random()"
   ]
  },
  {
   "cell_type": "markdown",
   "id": "9c9417d5",
   "metadata": {},
   "source": [
    "## os \n",
    " Le module **os** de Python permet d'effectuer des opérations courantes liées au système d'exploitation."
   ]
  },
  {
   "cell_type": "markdown",
   "id": "2de4f187",
   "metadata": {},
   "source": [
    "* https://www.tutorialsteacher.com/python/os-module"
   ]
  },
  {
   "cell_type": "code",
   "execution_count": 55,
   "id": "07d30c18",
   "metadata": {},
   "outputs": [
    {
     "data": {
      "text/plain": [
       "'/home/oussama/Desktop/XLAiner/XLainerTraining/Python'"
      ]
     },
     "execution_count": 55,
     "metadata": {},
     "output_type": "execute_result"
    }
   ],
   "source": [
    "import os\n",
    "os.getcwd()  # renvoie le répertoire de travail actuel"
   ]
  },
  {
   "cell_type": "code",
   "execution_count": 59,
   "id": "19b18b32",
   "metadata": {},
   "outputs": [],
   "source": [
    "os.mkdir('dossier18') # créer un nouveau dossier"
   ]
  },
  {
   "cell_type": "markdown",
   "id": "7e41373b",
   "metadata": {},
   "source": [
    "## datetime"
   ]
  },
  {
   "cell_type": "markdown",
   "id": "4ae23818",
   "metadata": {},
   "source": [
    "Le module **datetime** fournit des classes pour manipuler les dates et les heures\n",
    "\n",
    "https://www.programiz.com/python-programming/datetime"
   ]
  },
  {
   "cell_type": "code",
   "execution_count": 60,
   "id": "22fa36a9",
   "metadata": {},
   "outputs": [
    {
     "name": "stdout",
     "output_type": "stream",
     "text": [
      "2024-01-31 16:49:56.185432\n"
     ]
    }
   ],
   "source": [
    "# Exemple : Obtenir la date et l'heure actuelles\n",
    "import datetime\n",
    "\n",
    "datetime_object = datetime.datetime.now()\n",
    "print(datetime_object)\n"
   ]
  },
  {
   "cell_type": "code",
   "execution_count": 61,
   "id": "e0ab162e",
   "metadata": {},
   "outputs": [
    {
     "name": "stdout",
     "output_type": "stream",
     "text": [
      "2024-01-31\n"
     ]
    }
   ],
   "source": [
    "# Exemple2 : Obtenir la date actuelle\n",
    "import datetime\n",
    "\n",
    "date_object = datetime.date.today()\n",
    "print(date_object)\n"
   ]
  },
  {
   "cell_type": "code",
   "execution_count": null,
   "id": "532913f2",
   "metadata": {},
   "outputs": [],
   "source": []
  }
 ],
 "metadata": {
  "kernelspec": {
   "display_name": "Python 3 (ipykernel)",
   "language": "python",
   "name": "python3"
  },
  "language_info": {
   "codemirror_mode": {
    "name": "ipython",
    "version": 3
   },
   "file_extension": ".py",
   "mimetype": "text/x-python",
   "name": "python",
   "nbconvert_exporter": "python",
   "pygments_lexer": "ipython3",
   "version": "3.10.11"
  }
 },
 "nbformat": 4,
 "nbformat_minor": 5
}
